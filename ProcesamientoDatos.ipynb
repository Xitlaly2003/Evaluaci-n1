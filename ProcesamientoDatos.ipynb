{
 "cells": [
  {
   "cell_type": "code",
   "execution_count": 1,
   "id": "7a5e6d08-7194-4157-be0a-0f790ca187db",
   "metadata": {},
   "outputs": [],
   "source": [
    "import pandas as pd\n",
    "import numpy as np"
   ]
  },
  {
   "cell_type": "code",
   "execution_count": 2,
   "id": "75714690-4f94-4e6a-a08a-969e9c3e2daf",
   "metadata": {},
   "outputs": [],
   "source": [
    "# Cargar tablas desde archivos CSV\n",
    "clientes_df = pd.read_csv('clientes.csv')\n",
    "ventas_df = pd.read_csv('ventas.csv')\n",
    "persona_df = pd.read_csv('persona.csv')\n",
    "metodo_pago_df = pd.read_csv('metodoPago.csv')\n",
    "vehiculo_df = pd.read_csv('vehiculo.csv')\n",
    "sucursal_df = pd.read_csv('sucursal.csv')\n",
    "tiempo_df = pd.read_csv('tiempo.csv')"
   ]
  },
  {
   "cell_type": "code",
   "execution_count": 3,
   "id": "716df103-ba68-4107-b755-4870bad025fc",
   "metadata": {},
   "outputs": [
    {
     "name": "stdout",
     "output_type": "stream",
     "text": [
      "Clientes\n",
      "   ID_Cliente  ID_Persona  ID_MetodoPago  Numero_total_alquileres  \\\n",
      "0           1           1              1                      230   \n",
      "1           2           2              2                      137   \n",
      "2           3           3              3                      723   \n",
      "3           4           4              4                      717   \n",
      "4           5           5              5                      818   \n",
      "\n",
      "   Gasto_total Ultima_fecha_alquiler  Duracion_promerio_alquiler  \n",
      "0      7861.76            18/08/2024                          11  \n",
      "1       281.27            24/03/2024                          16  \n",
      "2      9443.95            17/07/2024                          27  \n",
      "3      8416.95            29/03/2024                          19  \n",
      "4      4756.50            24/05/2024                          12  \n",
      "Ventas\n",
      "   ID_Venta  ID_Cliente  ID_Vehiculo  ID_Sucursal  ID_Tiempo  \\\n",
      "0         1           1            1            1          1   \n",
      "1         2           2            2            2          2   \n",
      "2         3           3            3            3          3   \n",
      "3         4           4            4            4          4   \n",
      "4         5           5            5            5          5   \n",
      "\n",
      "  Fecha_de_alquiler  Monto_de_alquiler  Duracion_de_alquiler  \n",
      "0        22/04/2021            5903.15                    11  \n",
      "1        07/11/2021            1908.52                    23  \n",
      "2        26/06/2024            7074.01                    14  \n",
      "3        14/04/2024            4006.53                    16  \n",
      "4        07/06/2024            5130.12                    21  \n",
      "Persona\n",
      "   ID_Persona             Nombre FechaNacimiento  \\\n",
      "0           1        Dorian Bote      18/09/2000   \n",
      "1           2     Jo ann Collerd      01/02/1997   \n",
      "2           3       Aldwin Tarte      18/03/1999   \n",
      "3           4  Abbey Glendinning      02/10/1997   \n",
      "4           5    Karita Stiegers      13/11/1998   \n",
      "\n",
      "                            Email  Genero            Ciudad           Pais  \n",
      "0            dbote0@xinhuanet.com    Male         Nashville  United States  \n",
      "1             jann1@sitemeter.com  Female      Grand Rapids  United States  \n",
      "2  atarte2@networkadvertising.org    Male         Knoxville  United States  \n",
      "3     aglendinning3@mediafire.com    Male  Huntington Beach  United States  \n",
      "4           kstiegers4@google.com  Female           Oakland  United States  \n",
      "MetodoPago\n",
      "   ID_MetodoPago TipoPago              NombreBanco FechaExpiracion\n",
      "0              1    laser            Turner-Muller         2028-07\n",
      "1              2      jcb      Balistreri and Sons         2026-05\n",
      "2              3      jcb  Hudson, Spinka and Haag         2026-03\n",
      "3              4      jcb             Howell Group         2028-04\n",
      "4              5     visa            Lubowitz-Metz         2027-08\n",
      "Vehiculo\n",
      "   ID_Vehiculo                                      Tipo_vehiculo       Marca  \\\n",
      "0            1       blandit lacinia erat vestibulum sed magna at  Volkswagen   \n",
      "1            2  aliquam quis turpis eget elit sodales sceleris...        MINI   \n",
      "2            3      integer ac neque duis bibendum morbi non quam      Toyota   \n",
      "3            4            vestibulum aliquet ultrices erat tortor  Mitsubishi   \n",
      "4            5                  nullam varius nulla facilisi cras        Ford   \n",
      "\n",
      "       Modelo   Año  Capacidad  \n",
      "0  New Beetle  2006          4  \n",
      "1        MINI  2002          7  \n",
      "2       Camry  2000          2  \n",
      "3      Galant  1984          7  \n",
      "4      Ranger  1991          4  \n",
      "Sucursal\n",
      "   ID_Sucursal                                           Nombre  \\\n",
      "0            1                                  The Joint Corp.   \n",
      "1            2                        BOK Financial Corporation   \n",
      "2            3  Western Asset Variable Rate Strategic Fund Inc.   \n",
      "3            4                 CIM Commercial Trust Corporation   \n",
      "4            5          Guggenheim Strategic Opportunities Fund   \n",
      "\n",
      "          Ciudad           Pais  Capacidad_almacenamiento  \n",
      "0     Alexandria  United States                        41  \n",
      "1  Daytona Beach  United States                        38  \n",
      "2        El Paso  United States                        37  \n",
      "3        El Paso  United States                        23  \n",
      "4   Battle Creek  United States                        25  \n",
      "Tiempo\n",
      "   ID_Tiempo       Fecha  Mes   Año  Trimestre\n",
      "0          1  24/11/2022    2  2024          3\n",
      "1          2  01/02/2022    4  2020          4\n",
      "2          3  03/06/2021    6  2024          3\n",
      "3          4  15/11/2021    3  2024          1\n",
      "4          5  31/08/2021   12  2024          2\n"
     ]
    }
   ],
   "source": [
    "# Mostrar primeras filas\n",
    "print(\"Clientes\")\n",
    "print(clientes_df.head())\n",
    "\n",
    "print(\"Ventas\")\n",
    "print(ventas_df.head())\n",
    "\n",
    "print(\"Persona\")\n",
    "print(persona_df.head())\n",
    "\n",
    "print(\"MetodoPago\")\n",
    "print(metodo_pago_df.head())\n",
    "\n",
    "print(\"Vehiculo\")\n",
    "print(vehiculo_df.head())\n",
    "\n",
    "print(\"Sucursal\")\n",
    "print(sucursal_df.head())\n",
    "\n",
    "print(\"Tiempo\")\n",
    "print(tiempo_df.head())"
   ]
  },
  {
   "cell_type": "code",
   "execution_count": 4,
   "id": "f6e15055-baee-4b3e-a9e2-98de509d7052",
   "metadata": {},
   "outputs": [],
   "source": [
    "# Eliminar duplicados\n",
    "clientes_df.drop_duplicates(inplace=True)\n",
    "ventas_df.drop_duplicates(inplace=True)\n",
    "persona_df.drop_duplicates(inplace=True)\n",
    "metodo_pago_df.drop_duplicates(inplace=True)\n",
    "vehiculo_df.drop_duplicates(inplace=True)\n",
    "sucursal_df.drop_duplicates(inplace=True)\n",
    "tiempo_df.drop_duplicates(inplace=True)"
   ]
  },
  {
   "cell_type": "code",
   "execution_count": 5,
   "id": "2c7284a4-742c-49af-aa1f-ab2b55342b30",
   "metadata": {},
   "outputs": [],
   "source": [
    "# Eliminar filas con valores nulos\n",
    "clientes_df.dropna(inplace=True)\n",
    "ventas_df.dropna(inplace=True)\n",
    "persona_df.dropna(inplace=True)\n",
    "metodo_pago_df.dropna(inplace=True)\n",
    "vehiculo_df.dropna(inplace=True)\n",
    "sucursal_df.dropna(inplace=True)\n",
    "tiempo_df.dropna(inplace=True)"
   ]
  },
  {
   "cell_type": "code",
   "execution_count": 6,
   "id": "b158392a-3c96-4944-964c-871b012ee739",
   "metadata": {},
   "outputs": [
    {
     "name": "stderr",
     "output_type": "stream",
     "text": [
      "C:\\Users\\Tony\\AppData\\Local\\Temp\\ipykernel_15492\\3399448678.py:2: UserWarning: Parsing dates in %d/%m/%Y format when dayfirst=False (the default) was specified. Pass `dayfirst=True` or specify a format to silence this warning.\n",
      "  clientes_df['Ultima_fecha_alquiler'] = pd.to_datetime(clientes_df['Ultima_fecha_alquiler'], errors='coerce')\n",
      "C:\\Users\\Tony\\AppData\\Local\\Temp\\ipykernel_15492\\3399448678.py:3: UserWarning: Parsing dates in %d/%m/%Y format when dayfirst=False (the default) was specified. Pass `dayfirst=True` or specify a format to silence this warning.\n",
      "  persona_df['FechaNacimiento'] = pd.to_datetime(persona_df['FechaNacimiento'], errors='coerce')\n",
      "C:\\Users\\Tony\\AppData\\Local\\Temp\\ipykernel_15492\\3399448678.py:4: UserWarning: Parsing dates in %d/%m/%Y format when dayfirst=False (the default) was specified. Pass `dayfirst=True` or specify a format to silence this warning.\n",
      "  tiempo_df['Fecha'] = pd.to_datetime(tiempo_df['Fecha'], errors='coerce')\n",
      "C:\\Users\\Tony\\AppData\\Local\\Temp\\ipykernel_15492\\3399448678.py:5: UserWarning: Parsing dates in %d/%m/%Y format when dayfirst=False (the default) was specified. Pass `dayfirst=True` or specify a format to silence this warning.\n",
      "  ventas_df['Fecha_de_alquiler'] = pd.to_datetime(ventas_df['Fecha_de_alquiler'], errors='coerce')\n"
     ]
    }
   ],
   "source": [
    "# Formato consistente para fechas\n",
    "clientes_df['Ultima_fecha_alquiler'] = pd.to_datetime(clientes_df['Ultima_fecha_alquiler'], errors='coerce')\n",
    "persona_df['FechaNacimiento'] = pd.to_datetime(persona_df['FechaNacimiento'], errors='coerce')\n",
    "tiempo_df['Fecha'] = pd.to_datetime(tiempo_df['Fecha'], errors='coerce')\n",
    "ventas_df['Fecha_de_alquiler'] = pd.to_datetime(ventas_df['Fecha_de_alquiler'], errors='coerce')"
   ]
  },
  {
   "cell_type": "code",
   "execution_count": 7,
   "id": "e19c82fd-3359-449f-9ec2-2241d5fd2b25",
   "metadata": {},
   "outputs": [],
   "source": [
    "# Eliminar filas donde 'Fecha_de_Alquiler' sea NaT\n",
    "ventas_df = ventas_df[ventas_df['Fecha_de_alquiler'].notna()]"
   ]
  },
  {
   "cell_type": "code",
   "execution_count": 8,
   "id": "e3225c07-bab5-45d7-8fd4-37510d48fd4e",
   "metadata": {},
   "outputs": [],
   "source": [
    "# Eliminar filas donde la fecha de alquiler sea futura\n",
    "ventas_df = ventas_df[ventas_df['Fecha_de_alquiler'] <= pd.Timestamp.now()]"
   ]
  },
  {
   "cell_type": "code",
   "execution_count": 9,
   "id": "211b9359-bad8-4947-bed1-76522ea545e5",
   "metadata": {},
   "outputs": [],
   "source": [
    "# Eliminar filas con montos de alquiler o gastos totales negativos\n",
    "ventas_df = ventas_df[ventas_df['Monto_de_alquiler'] >= 0]\n",
    "clientes_df = clientes_df[clientes_df['Gasto_total'] >= 0]"
   ]
  },
  {
   "cell_type": "code",
   "execution_count": 10,
   "id": "a1ec0119-b303-4ccd-a0b8-1c9e2b3c3326",
   "metadata": {},
   "outputs": [
    {
     "name": "stdout",
     "output_type": "stream",
     "text": [
      "ID_Cliente                    0\n",
      "ID_Persona                    0\n",
      "ID_MetodoPago                 0\n",
      "Numero_total_alquileres       0\n",
      "Gasto_total                   0\n",
      "Ultima_fecha_alquiler         0\n",
      "Duracion_promerio_alquiler    0\n",
      "dtype: int64\n",
      "ID_Venta                0\n",
      "ID_Cliente              0\n",
      "ID_Vehiculo             0\n",
      "ID_Sucursal             0\n",
      "ID_Tiempo               0\n",
      "Fecha_de_alquiler       0\n",
      "Monto_de_alquiler       0\n",
      "Duracion_de_alquiler    0\n",
      "dtype: int64\n",
      "ID_Persona         0\n",
      "Nombre             0\n",
      "FechaNacimiento    0\n",
      "Email              0\n",
      "Genero             0\n",
      "Ciudad             0\n",
      "Pais               0\n",
      "dtype: int64\n",
      "ID_MetodoPago      0\n",
      "TipoPago           0\n",
      "NombreBanco        0\n",
      "FechaExpiracion    0\n",
      "dtype: int64\n",
      "ID_Vehiculo      0\n",
      "Tipo_vehiculo    0\n",
      "Marca            0\n",
      "Modelo           0\n",
      "Año              0\n",
      "Capacidad        0\n",
      "dtype: int64\n",
      "ID_Sucursal                 0\n",
      "Nombre                      0\n",
      "Ciudad                      0\n",
      "Pais                        0\n",
      "Capacidad_almacenamiento    0\n",
      "dtype: int64\n",
      "ID_Tiempo    0\n",
      "Fecha        0\n",
      "Mes          0\n",
      "Año          0\n",
      "Trimestre    0\n",
      "dtype: int64\n"
     ]
    }
   ],
   "source": [
    "# Revisar si quedan valores nulos\n",
    "print(clientes_df.isnull().sum())\n",
    "print(ventas_df.isnull().sum())\n",
    "print(persona_df.isnull().sum())\n",
    "print(metodo_pago_df.isnull().sum())\n",
    "print(vehiculo_df.isnull().sum())\n",
    "print(sucursal_df.isnull().sum())\n",
    "print(tiempo_df.isnull().sum())"
   ]
  },
  {
   "cell_type": "code",
   "execution_count": 11,
   "id": "bdaee379-d523-4a4e-95c5-37ed8c38d62c",
   "metadata": {},
   "outputs": [],
   "source": [
    "# Eliminar filas con valores nulos\n",
    "clientes_df.dropna(inplace=True)\n",
    "ventas_df.dropna(inplace=True)\n",
    "persona_df.dropna(inplace=True)\n",
    "metodo_pago_df.dropna(inplace=True)\n",
    "vehiculo_df.dropna(inplace=True)\n",
    "sucursal_df.dropna(inplace=True)\n",
    "tiempo_df.dropna(inplace=True)"
   ]
  },
  {
   "cell_type": "code",
   "execution_count": 12,
   "id": "cecffcbe-adc4-443b-a1d5-f34fcc39fb9a",
   "metadata": {},
   "outputs": [],
   "source": [
    "# Guardar los datos limpios en nuevos archivos CSV\n",
    "clientes_df.to_csv('Clientes_L.csv', index=False)\n",
    "ventas_df.to_csv('Ventas_L.csv', index=False)\n",
    "persona_df.to_csv('Persona_L.csv', index=False)\n",
    "metodo_pago_df.to_csv('MetodoPago_L.csv', index=False)\n",
    "vehiculo_df.to_csv('Vehiculo_L.csv', index=False)\n",
    "sucursal_df.to_csv('Sucursal_L.csv', index=False)\n",
    "tiempo_df.to_csv('Tiempo_L.csv', index=False)"
   ]
  },
  {
   "cell_type": "code",
   "execution_count": null,
   "id": "faf087b6-3e7a-4023-8b2c-f4353acfa297",
   "metadata": {},
   "outputs": [],
   "source": []
  }
 ],
 "metadata": {
  "kernelspec": {
   "display_name": "Python 3 (ipykernel)",
   "language": "python",
   "name": "python3"
  },
  "language_info": {
   "codemirror_mode": {
    "name": "ipython",
    "version": 3
   },
   "file_extension": ".py",
   "mimetype": "text/x-python",
   "name": "python",
   "nbconvert_exporter": "python",
   "pygments_lexer": "ipython3",
   "version": "3.8.10"
  }
 },
 "nbformat": 4,
 "nbformat_minor": 5
}
